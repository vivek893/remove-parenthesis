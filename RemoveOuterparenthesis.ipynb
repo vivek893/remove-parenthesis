{
 "cells": [
  {
   "cell_type": "code",
   "execution_count": 4,
   "id": "6484c9eb",
   "metadata": {},
   "outputs": [
    {
     "name": "stdout",
     "output_type": "stream",
     "text": [
      "(())\n",
      "()\n"
     ]
    }
   ],
   "source": [
    "# make a function\n",
    "def removeparenthesis(s):\n",
    "    # make a empty list and in this list store parenthesis\n",
    "    parenthesis=[]\n",
    "    count_char=0\n",
    "    for i in s:\n",
    "        if i=='(':\n",
    "            if count_char>0:\n",
    "                # append parenthesis in this list\n",
    "                parenthesis.append(i)\n",
    "            count_char+=1\n",
    "        else:\n",
    "            count_char-=1\n",
    "            if count_char>0:\n",
    "                parenthesis.append(i)\n",
    "    return ''.join(parenthesis)\n",
    "# take user input:\n",
    "s=input()\n",
    "#print output of given input\n",
    "print(removeparenthesis(s))"
   ]
  }
 ],
 "metadata": {
  "kernelspec": {
   "display_name": "Python 3 (ipykernel)",
   "language": "python",
   "name": "python3"
  },
  "language_info": {
   "codemirror_mode": {
    "name": "ipython",
    "version": 3
   },
   "file_extension": ".py",
   "mimetype": "text/x-python",
   "name": "python",
   "nbconvert_exporter": "python",
   "pygments_lexer": "ipython3",
   "version": "3.11.3"
  }
 },
 "nbformat": 4,
 "nbformat_minor": 5
}
